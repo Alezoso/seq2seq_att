{
  "nbformat": 4,
  "nbformat_minor": 0,
  "metadata": {
    "colab": {
      "provenance": [],
      "include_colab_link": true
    },
    "kernelspec": {
      "name": "python3",
      "display_name": "Python 3"
    },
    "language_info": {
      "name": "python"
    }
  },
  "cells": [
    {
      "cell_type": "markdown",
      "metadata": {
        "id": "view-in-github",
        "colab_type": "text"
      },
      "source": [
        "<a href=\"https://colab.research.google.com/github/Alezoso/seq2seq_att/blob/main/seq2seq_att.ipynb\" target=\"_parent\"><img src=\"https://colab.research.google.com/assets/colab-badge.svg\" alt=\"Open In Colab\"/></a>"
      ]
    },
    {
      "cell_type": "code",
      "source": [
        "from torch import nn\n"
      ],
      "metadata": {
        "id": "np5pMOJca5s7"
      },
      "execution_count": null,
      "outputs": []
    },
    {
      "cell_type": "markdown",
      "source": [
        "I have a multivariate time series problem:\n",
        "5 time series as predictive variable, 1 as target.\n",
        "Want to use seq2seq lstm with Bahdanau Attention\n",
        "\n",
        "The code runs but I'm not sure if it is correct how I compute the attention"
      ],
      "metadata": {
        "id": "CKwCS8hLpiQV"
      }
    },
    {
      "cell_type": "code",
      "execution_count": null,
      "metadata": {
        "id": "cRq_ARKfpZZO"
      },
      "outputs": [],
      "source": [
        "#Encoder\n",
        "#input size sequence_length, batch_size, features\n",
        "class Encoder(nn.Module):\n",
        "    def __init__(self, input_size, hidden_size, num_layers):\n",
        "        super(Encoder, self).__init__()\n",
        "        self.hidden_size = hidden_size\n",
        "        self.num_layers = num_layers\n",
        "        self.lstm = nn.LSTM(input_size, hidden_size, num_layers, bidirectional=True)\n",
        "\n",
        "    def forward(self, x):\n",
        "        outputs, (hidden, cell) = self.lstm(x)\n",
        "        return outputs, hidden, cell"
      ]
    },
    {
      "cell_type": "code",
      "source": [
        "#Attention\n",
        "\n",
        "class BahdanauAttention(nn.Module):\n",
        "    def __init__(self, hidden_size):\n",
        "        super(BahdanauAttention, self).__init__()\n",
        "        self.Wa = nn.Linear(hidden_size * 2, hidden_size * 2, bias=False)\n",
        "        self.Ua = nn.Linear(hidden_size * 2, hidden_size * 2, bias=False)\n",
        "        self.Va = nn.Linear(hidden_size * 2, 1, bias=False)\n",
        "\n",
        "    def forward(self, hidden, encoder_outputs):\n",
        "        # hidden => [batch size, dec hid dim]\n",
        "        # encoder_outputs => [src len, batch size, enc hid dim * 2]\n",
        "        src_len = encoder_outputs.shape[0]\n",
        "        hidden = hidden[-1].unsqueeze(0).repeat(src_len, 1, 1)\n",
        "        hidden = hidden.permute(1, 0, 2)  # [batch size, src len, dec hid dim]\n",
        "        encoder_outputs = encoder_outputs.permute(1, 0, 2)  # [batch size, src len, enc hid dim * 2]\n",
        "        scores = self.Va(torch.tanh(self.Wa(hidden) + self.Ua(encoder_outputs)))  # [batch size, src len, 1]\n",
        "        weights = F.softmax(scores, dim=1)  # [batch size, src len, 1]\n",
        "        context = torch.bmm(weights.permute(0, 2, 1), encoder_outputs)  # [batch size, 1, enc hid dim * 2]\n",
        "        return context.permute(1, 0, 2), weights  # [1, batch size, enc hid dim * 2], [batch size, src len, 1]"
      ],
      "metadata": {
        "id": "EmlTMyXwqlRb"
      },
      "execution_count": null,
      "outputs": []
    },
    {
      "cell_type": "code",
      "source": [
        "#Decoder\n",
        "#input size batch_size,features (2=last encoder input fourth feature or decoder output and additional feature from encoder input)\n",
        "class Decoder(nn.Module):\n",
        "    def __init__(self, input_size, hidden_size, output_size, num_layers, attention):\n",
        "        super(Decoder, self).__init__()\n",
        "        self.input_size = input_size\n",
        "        self.hidden_size = hidden_size\n",
        "        self.output_size = output_size\n",
        "        self.num_layers = num_layers\n",
        "        self.attention = attention\n",
        "        self.lstm = nn.LSTM((hidden_size * 2) + input_size+1, hidden_size * 2, num_layers)\n",
        "        self.fc1 = nn.Linear((hidden_size * 2) + (hidden_size * 2), hidden_size * 2)\n",
        "        self.fc2 = nn.Linear(hidden_size * 2, output_size)\n",
        "        self.dropout = nn.Dropout(p=0.2)\n",
        "\n",
        "    def forward(self, input, hidden, cell, encoder_outputs):\n",
        "        input = input.unsqueeze(0)  # [1, batch size]\n",
        "        context, _ = self.attention(hidden, encoder_outputs)  # [1, batch size, enc hid dim * 2]\n",
        "        rnn_input = torch.cat((input, context), dim=2)  # [1, batch size, (enc hid dim * 2) + emb dim]\n",
        "        output, (hidden, cell) = self.lstm(rnn_input, (hidden, cell))  # output => [1, batch size, dec hid dim]\n",
        "        output = output.squeeze(0)  # [batch size, dec hid dim]\n",
        "        context = context.squeeze(0)  # [batch size, enc hid dim * 2]\n",
        "        out = F.relu(self.fc1(torch.cat((output, context), dim=1)))  # [batch size, dec hid dim * 2]\n",
        "        out = self.dropout(out)\n",
        "        out = self.fc2(out)  # [batch size, output_dim]\n",
        "        return out, hidden, cell"
      ],
      "metadata": {
        "id": "B01eiMmUqzyC"
      },
      "execution_count": null,
      "outputs": []
    },
    {
      "cell_type": "code",
      "source": [
        "#Seq2Seq\n",
        "\n",
        "class Seq2Seq(nn.Module):\n",
        "    def __init__(self, encoder, decoder, max_target_length):\n",
        "        super(Seq2Seq, self).__init__()\n",
        "        self.encoder = encoder\n",
        "        self.decoder = decoder\n",
        "        self.max_target_length = max_target_length\n",
        "        # self.teacher_forcing_ratio = teacher_forcing_ratio\n",
        "        # print('teacher_forcing_ratio',teacher_forcing_ratio)\n",
        "    def forward(self, source, target=None,teacher_forcing_ratio=0.5):\n",
        "        # print('teacher_forcing_ratio',teacher_forcing_ratio)\n",
        "        batch_size = source.shape[1]\n",
        "        target_vocab_size = self.decoder.output_size\n",
        "        outputs = torch.zeros(self.max_target_length, batch_size, target_vocab_size).to(device)\n",
        "        encoder_outputs, hidden, cell = self.encoder(source)\n",
        "        hidden = torch.cat((hidden[:self.decoder.num_layers], hidden[self.decoder.num_layers:]), dim=2)\n",
        "        cell = torch.cat((cell[:self.decoder.num_layers], cell[self.decoder.num_layers:]), dim=2)\n",
        "        x = source[-1][:, 3].unsqueeze(1)  # Last input of encoder NDVI as initial input to decoder\n",
        "        previous_timestep = source[-1][:, 0].unsqueeze(1)  # Last input of encoder DOY as initial input to decoder (day of the year)\n",
        "        #This is a special input that I want to provide to the net\n",
        "        # print('x', x.shape)\n",
        "        # print('previous_timestep', previous_timestep)\n",
        "        x = torch.cat((x, previous_timestep), dim=1)\n",
        "        # print('x', x.shape)\n",
        "        for t in range(0, self.max_target_length):\n",
        "            output, hidden, cell = self.decoder(x, hidden, cell, encoder_outputs)\n",
        "            outputs[t] = output\n",
        "\n",
        "            teacher_force = random.random() < teacher_forcing_ratio\n",
        "            if target is not None and teacher_force:\n",
        "                x = target[t].squeeze(0)  # Teacher forcing\n",
        "            else:\n",
        "                x = output  # Next input is the model's own prediction\n",
        "                # print('x2', x.shape)\n",
        "            if tensor_timestep.shape==previous_timestep.shape:\n",
        "                tensor_timestep_temp=tensor_timestep\n",
        "                tensor_timestep_temp=tensor_timestep_temp.to(device)\n",
        "                previous_timestep=previous_timestep+tensor_timestep_temp #I want the model only to work with NDVI as target but with 2 inputs: NDVI and DOY\n",
        "                #DOY has a fixed timestep, so I now exactly what is\n",
        "                #I add the delta DOY to the previous doy\n",
        "            else :\n",
        "                min_dim = min(tensor_timestep.shape[0], previous_timestep.shape[0])#only triggers when the last batch is not exactly the fixed batch_size\n",
        "                tensor_timestep_temp = tensor_timestep[:min_dim]\n",
        "                tensor_timestep_temp=tensor_timestep_temp.to(device)\n",
        "                previous_timestep=previous_timestep+tensor_timestep_temp\n",
        "            x = torch.cat((x, previous_timestep), dim=1)\n",
        "        return outputs"
      ],
      "metadata": {
        "id": "y-76q2HZq3fh"
      },
      "execution_count": null,
      "outputs": []
    },
    {
      "cell_type": "code",
      "source": [
        "#model parameters\n",
        "\n",
        "INPUT_DIM = 5  # Input dimension for the encoder\n",
        "OUTPUT_DIM = 1  # Output dimension for the decoder\n",
        "ENC_HID_DIM = 60  # Hidden dimension for the encoder\n",
        "DEC_HID_DIM = 60  # Hidden dimension for the decoder\n",
        "N_LAYERS_E = 2  # Number of layers encoder\n",
        "N_LAYERS_D = 1  # Number of layers decoder\n",
        "\n",
        "MAX_TARGET_LENGTH = 3\n",
        "TEACHER_FORCING_RATIO = 0.5\n",
        "batch_size = 64\n",
        "\n",
        "timestep=train_inputs[0,8,0]-train_inputs[0,7,0]\n",
        "tensor_timestep = torch.ones((64, 1), dtype=torch.float32) * timestep\n",
        "tensor_timestep=tensor_timestep.to(device)\n",
        "del timestep\n",
        "# Initiate the model\n",
        "encoder = Encoder(INPUT_DIM, ENC_HID_DIM, N_LAYERS_E).to(device)\n",
        "attention = BahdanauAttention(ENC_HID_DIM).to(device)\n",
        "decoder = Decoder(OUTPUT_DIM, DEC_HID_DIM, OUTPUT_DIM, N_LAYERS_D, attention).to(device)\n",
        "# model = Seq2Seq(encoder, decoder, MAX_TARGET_LENGTH, TEACHER_FORCING_RATIO).to(device)\n",
        "model = Seq2Seq(encoder, decoder, MAX_TARGET_LENGTH).to(device)\n",
        "\n",
        "summary(model)\n",
        "criterion = nn.MSELoss()\n",
        "optimizer = torch.optim.Adam(model.parameters(), lr=0.001)\n",
        "scheduler = torch.optim.lr_scheduler.ReduceLROnPlateau(optimizer, mode='min', factor=0.1, patience=4, min_lr=0.00001)\n"
      ],
      "metadata": {
        "id": "nzOqBZ9prtGH"
      },
      "execution_count": null,
      "outputs": []
    }
  ]
}